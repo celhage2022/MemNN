{
 "cells": [
  {
   "cell_type": "code",
   "execution_count": 1,
   "metadata": {},
   "outputs": [],
   "source": [
    "str1 = \"9 Yann moved to the kitchen.\"\n",
    "str2 = \"10 Why did yann go to the kitchen?\tthirsty\t7\""
   ]
  },
  {
   "cell_type": "code",
   "execution_count": 4,
   "metadata": {},
   "outputs": [
    {
     "name": "stdout",
     "output_type": "stream",
     "text": [
      "['9', 'Yann', 'moved', 'to', 'the', 'kitchen.']\n"
     ]
    }
   ],
   "source": [
    "words = str1.split()\n",
    "print(words)"
   ]
  },
  {
   "cell_type": "code",
   "execution_count": 8,
   "metadata": {},
   "outputs": [
    {
     "name": "stdout",
     "output_type": "stream",
     "text": [
      "dict_keys(['clé1', 'clé2'])\n"
     ]
    }
   ],
   "source": [
    "# Créer un dictionnaire\n",
    "dictionnaire = {\"clé1\": \"valeur1\", \"clé2\": \"valeur2\"}\n",
    "\n",
    "# Extraire les clés\n",
    "clés = dictionnaire.keys()\n",
    "\n",
    "# Imprimer les clés\n",
    "print(clés)\n"
   ]
  },
  {
   "cell_type": "code",
   "execution_count": 7,
   "metadata": {},
   "outputs": [
    {
     "name": "stdout",
     "output_type": "stream",
     "text": [
      "Taille du tensor : torch.Size([3, 4, 5])\n"
     ]
    }
   ],
   "source": [
    "import torch \n",
    "\n",
    "import torch\n",
    "\n",
    "# Création d'un tensor avec des dimensions arbitraires\n",
    "tensor = torch.randn(3, 4, 5)\n",
    "\n",
    "# Impression de la taille du tensor\n",
    "print(\"Taille du tensor :\", tensor.shape)\n"
   ]
  }
 ],
 "metadata": {
  "kernelspec": {
   "display_name": "TP",
   "language": "python",
   "name": "python3"
  },
  "language_info": {
   "codemirror_mode": {
    "name": "ipython",
    "version": 3
   },
   "file_extension": ".py",
   "mimetype": "text/x-python",
   "name": "python",
   "nbconvert_exporter": "python",
   "pygments_lexer": "ipython3",
   "version": "3.11.5"
  }
 },
 "nbformat": 4,
 "nbformat_minor": 2
}
